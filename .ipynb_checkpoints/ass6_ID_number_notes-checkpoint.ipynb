{
 "cells": [
  {
   "cell_type": "code",
   "execution_count": null,
   "id": "3e08fa00",
   "metadata": {},
   "outputs": [],
   "source": [
    "##M.Sc. Biomedical Genomics / MA5114 / Autumn 2022\n",
    "Homework Assignment 6\n",
    "\n",
    "Submit your work via Blackboard by the deadline (today at 17:05), following the format ma5114_ass6_IDnumber_notes.md, where ID_number is your student ID. As you will be working on a Markdown document, I suggest you create it either in RStudio or a Jupyter Notebook, exporting the final document as a Markdown file."
   ]
  }
 ],
 "metadata": {
  "kernelspec": {
   "display_name": "Python 3 (ipykernel)",
   "language": "python",
   "name": "python3"
  },
  "language_info": {
   "codemirror_mode": {
    "name": "ipython",
    "version": 3
   },
   "file_extension": ".py",
   "mimetype": "text/x-python",
   "name": "python",
   "nbconvert_exporter": "python",
   "pygments_lexer": "ipython3",
   "version": "3.9.12"
  }
 },
 "nbformat": 4,
 "nbformat_minor": 5
}
